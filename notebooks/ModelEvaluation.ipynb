{
 "cells": [
  {
   "cell_type": "code",
   "execution_count": null,
   "id": "initial_id",
   "metadata": {
    "collapsed": true
   },
   "source": [
    "import numpy as np\n",
    "import matplotlib.pyplot as plt\n",
    "import joblib\n",
    "from sklearn.metrics import confusion_matrix, classification_report, accuracy_score\n",
    "\n",
    "# Fonction pour charger les données de test\n",
    "def load_test_data(features_path='outputs/test_data/X_test.npy', labels_path='outputs/test_data/y_test.npy'):\n",
    "    X_test = np.load(features_path)\n",
    "    y_test = np.load(labels_path)\n",
    "    return X_test, y_test\n",
    "\n",
    "# Charger les données de test\n",
    "X_test, y_test = load_test_data()\n",
    "\n",
    "# Charger le modèle\n",
    "model_path = 'outputs/trained_models/rf_model.pkl'\n",
    "model = joblib.load(model_path)\n",
    "\n",
    "# Faire des prédictions\n",
    "predictions = model.predict(X_test)\n",
    "\n",
    "# Évaluer le modèle\n",
    "accuracy = accuracy_score(y_test, predictions)\n",
    "print(f'Accuracy: {accuracy:.2f}')\n",
    "conf_matrix = confusion_matrix(y_test, predictions)\n",
    "print('Matrice de confusion:')\n",
    "print(conf_matrix)\n",
    "print('Rapport de classification:')\n",
    "print(classification_report(y_test, predictions))\n",
    "\n",
    "# Visualiser la matrice de confusion\n",
    "fig, ax = plt.subplots()\n",
    "cax = ax.matshow(conf_matrix, cmap=plt.cm.Blues)\n",
    "fig.colorbar(cax)\n",
    "ax.set_xlabel('Prédictions')\n",
    "ax.set_ylabel('Véritables valeurs')\n",
    "ax.set_xticklabels(['', 'Classe 0', 'Classe 1'])\n",
    "ax.set_yticklabels(['', 'Classe 0', 'Classe 1'])\n",
    "plt.show()\n",
    "\n",
    "# Sauvegarder la figure\n",
    "fig_path = 'outputs/results/confusion_matrix.png'\n",
    "fig.savefig(fig_path)\n"
   ],
   "outputs": []
  }
 ],
 "metadata": {
  "kernelspec": {
   "display_name": "Python 3",
   "language": "python",
   "name": "python3"
  },
  "language_info": {
   "codemirror_mode": {
    "name": "ipython",
    "version": 2
   },
   "file_extension": ".py",
   "mimetype": "text/x-python",
   "name": "python",
   "nbconvert_exporter": "python",
   "pygments_lexer": "ipython2",
   "version": "2.7.6"
  }
 },
 "nbformat": 4,
 "nbformat_minor": 5
}
