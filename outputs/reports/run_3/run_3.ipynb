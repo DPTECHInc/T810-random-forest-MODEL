{
 "cells": [
  {
   "cell_type": "markdown",
   "id": "484c2d67",
   "metadata": {},
   "source": [
    "\n",
    "        # Run 3\n",
    "        \n",
    "        ## Parameters\n",
    "        ```\n",
    "        {}\n",
    "        ```\n",
    "\n",
    "        ## Scores\n",
    "        ```\n",
    "        Train ROC-AUC: 0.4861764491451723\n",
    "        Validation ROC-AUC (Cross-Validation): 0.8538583877995644\n",
    "        Validation ROC-AUC: 0.4972812600044088\n",
    "        Test ROC-AUC: 0.43301808322678403\n",
    "        ```\n",
    "        \n",
    "        ## Graphs\n",
    "        ![ROC Curve - Validation](validation_roc_curve.png)\n",
    "        ![ROC Curve - Test](test_roc_curve.png)\n",
    "        ![Classification Report - Validation](validation_classification_report.png)\n",
    "        ![Classification Report - Test](test_classification_report.png)\n",
    "        ![Class Distribution - Validation](validation_class_distribution.png)\n",
    "        "
   ]
  }
 ],
 "metadata": {},
 "nbformat": 4,
 "nbformat_minor": 5
}
