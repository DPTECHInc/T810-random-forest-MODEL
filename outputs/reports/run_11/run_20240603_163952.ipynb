{
 "cells": [
  {
   "cell_type": "markdown",
   "id": "00fe70b7",
   "metadata": {},
   "source": [
    "\n",
    "        # Run 11\n",
    "\n",
    "        ## Parameters\n",
    "        ```\n",
    "        {\n",
    "    \"n_estimators\": 400,\n",
    "    \"min_samples_split\": 5,\n",
    "    \"min_samples_leaf\": 4,\n",
    "    \"max_features\": \"log2\",\n",
    "    \"max_depth\": 30\n",
    "}\n",
    "        ```\n",
    "\n",
    "        ## Scores\n",
    "        ```\n",
    "        Train ROC-AUC: 0.999950944398444\n",
    "        Validation ROC-AUC (Cross-Validation): 0.8919880174291939\n",
    "        Validation ROC-AUC: 0.7949918100008825\n",
    "        Test ROC-AUC: 0.7695682687873614\n",
    "        ```\n",
    "\n",
    "        ## Graphs\n",
    "        ![ROC Curve - Training](training_roc_curve.png)\n",
    "        ![ROC Curve - Validation](validation_roc_curve.png)\n",
    "        ![ROC Curve - Test](test_roc_curve.png)\n",
    "        ![Classification Report - Training](training_classification_report.png)\n",
    "        ![Classification Report - Validation](validation_classification_report.png)\n",
    "        ![Classification Report - Test](test_classification_report.png)\n",
    "        ![Class Distribution - Training](training_class_distribution.png)\n",
    "        ![Class Distribution - Validation](validation_class_distribution.png)\n",
    "        ![Class Distribution - Test](test_class_distribution.png)\n",
    "        "
   ]
  }
 ],
 "metadata": {},
 "nbformat": 4,
 "nbformat_minor": 5
}
