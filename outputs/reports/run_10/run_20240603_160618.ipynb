{
 "cells": [
  {
   "cell_type": "markdown",
   "id": "9ecaf131",
   "metadata": {},
   "source": [
    "\n",
    "        # Run 10\n",
    "\n",
    "        ## Parameters\n",
    "        ```\n",
    "        {\n",
    "    \"n_estimators\": 600,\n",
    "    \"min_samples_split\": 5,\n",
    "    \"min_samples_leaf\": 2,\n",
    "    \"max_features\": \"sqrt\",\n",
    "    \"max_depth\": 30\n",
    "}\n",
    "        ```\n",
    "\n",
    "        ## Scores\n",
    "        ```\n",
    "        Train ROC-AUC: 1.0\n",
    "        Validation ROC-AUC (Cross-Validation): 0.8366296296296298\n",
    "        Validation ROC-AUC: 0.8150991772706476\n",
    "        Test ROC-AUC: 0.720550081497061\n",
    "        ```\n",
    "\n",
    "        ## Graphs\n",
    "        ![ROC Curve - Training](training_roc_curve.png)\n",
    "        ![ROC Curve - Validation](validation_roc_curve.png)\n",
    "        ![ROC Curve - Test](test_roc_curve.png)\n",
    "        ![Classification Report - Training](training_classification_report.png)\n",
    "        ![Classification Report - Validation](validation_classification_report.png)\n",
    "        ![Classification Report - Test](test_classification_report.png)\n",
    "        ![Class Distribution - Training](training_class_distribution.png)\n",
    "        ![Class Distribution - Validation](validation_class_distribution.png)\n",
    "        ![Class Distribution - Test](test_class_distribution.png)\n",
    "        "
   ]
  }
 ],
 "metadata": {},
 "nbformat": 4,
 "nbformat_minor": 5
}
