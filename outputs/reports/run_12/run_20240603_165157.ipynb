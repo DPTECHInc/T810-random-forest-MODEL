{
 "cells": [
  {
   "cell_type": "markdown",
   "id": "bcaf6e51",
   "metadata": {},
   "source": [
    "\n",
    "        # Run 12\n",
    "\n",
    "        ## Parameters\n",
    "        ```\n",
    "        {\n",
    "    \"n_estimators\": 200,\n",
    "    \"min_samples_split\": 10,\n",
    "    \"min_samples_leaf\": 6,\n",
    "    \"max_features\": \"sqrt\",\n",
    "    \"max_depth\": 20\n",
    "}\n",
    "        ```\n",
    "\n",
    "        ## Scores\n",
    "        ```\n",
    "        Train ROC-AUC: 0.9994120097694594\n",
    "        Validation ROC-AUC (Cross-Validation): 0.8595925925925926\n",
    "        Validation ROC-AUC: 0.8650319624131475\n",
    "        Test ROC-AUC: 0.7546371869725218\n",
    "        ```\n",
    "\n",
    "        ## Graphs\n",
    "        ![ROC Curve - Training](training_roc_curve.png)\n",
    "        ![ROC Curve - Validation](validation_roc_curve.png)\n",
    "        ![ROC Curve - Test](test_roc_curve.png)\n",
    "        ![Classification Report - Training](training_classification_report.png)\n",
    "        ![Classification Report - Validation](validation_classification_report.png)\n",
    "        ![Classification Report - Test](test_classification_report.png)\n",
    "        ![Class Distribution - Training](training_class_distribution.png)\n",
    "        ![Class Distribution - Validation](validation_class_distribution.png)\n",
    "        ![Class Distribution - Test](test_class_distribution.png)\n",
    "        "
   ]
  }
 ],
 "metadata": {},
 "nbformat": 4,
 "nbformat_minor": 5
}
