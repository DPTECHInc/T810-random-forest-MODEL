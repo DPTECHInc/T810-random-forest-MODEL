{
 "cells": [
  {
   "cell_type": "markdown",
   "metadata": {},
   "source": [
    "# Lecture Radiographies poumons, recherche pneumonies virales ou bactériennes, Récupération dataset et réequilibrage"
   ]
  },
  {
   "cell_type": "markdown",
   "metadata": {},
   "source": [
    "## 0. Import des librairies"
   ]
  },
  {
   "cell_type": "code",
   "metadata": {},
   "source": [
    "import os\n",
    "\n",
    "import numpy as np\n",
    "\n",
    "import matplotlib.pyplot as plt\n",
    "\n",
    "from tensorflow.keras.preprocessing.image import load_img, img_to_array, ImageDataGenerator\n",
    "\n",
    "from pathlib import Path\n",
    "\n",
    "import shutil\n",
    "\n",
    "import random"
   ],
   "outputs": [],
   "execution_count": null
  },
  {
   "cell_type": "markdown",
   "metadata": {},
   "source": [
    "## 1.a Récupération des données"
   ]
  },
  {
   "cell_type": "markdown",
   "metadata": {},
   "source": [
    "A la récupération du dataset, on se rend compte d'un partage inégal des images : \n",
    "- Nombre d'images dans TRAIN_NORMAL: 1340\n",
    "- Nombre d'images dans TRAIN_PNEUMONIA: 3875\n",
    "- Nombre d'images dans TEST_NORMAL: 234\n",
    "- Nombre d'images dans TEST_PNEUMONIA: 390\n",
    "- Nombre d'images dans VAL_NORMAL: 8\n",
    "- Nombre d'images dans VAL_PNEUMONIA: 8"
   ]
  },
  {
   "cell_type": "code",
   "metadata": {},
   "source": [
    "CWD = Path.cwd()\n",
    "TRAIN_NORMAL = CWD / \"assets\" / \"chest_xray\" / \"train\" / \"NORMAL\"\n",
    "TRAIN_PNEUMONIA = CWD / \"assets\" / \"chest_xray\" / \"train\" / \"PNEUMONIA\"\n",
    "TEST_NORMAL = CWD / \"assets\" / \"chest_xray\" / \"test\" / \"NORMAL\"\n",
    "TEST_PNEUMONIA = CWD / \"assets\" / \"chest_xray\" / \"test\" / \"PNEUMONIA\"\n",
    "VAL_NORMAL = CWD / \"assets\" / \"chest_xray\" / \"val\" / \"NORMAL\"\n",
    "VAL_PNEUMONIA = CWD / \"assets\" / \"chest_xray\" / \"val\" / \"PNEUMONIA\"\n",
    "\n",
    "# Déterminer le nombre d'images dans chaque répertoire\n",
    "print(f\"Nombre d'images dans TRAIN_NORMAL: {len(list(TRAIN_NORMAL.glob('*.jpeg')))}\")\n",
    "print(f\"Nombre d'images dans TRAIN_PNEUMONIA: {len(list(TRAIN_PNEUMONIA.glob('*.jpeg')))}\")\n",
    "print(f\"Nombre d'images dans TEST_NORMAL: {len(list(TEST_NORMAL.glob('*.jpeg')))}\")\n",
    "print(f\"Nombre d'images dans TEST_PNEUMONIA: {len(list(TEST_PNEUMONIA.glob('*.jpeg')))}\")\n",
    "print(f\"Nombre d'images dans VAL_NORMAL: {len(list(VAL_NORMAL.glob('*.jpeg')))}\")\n",
    "print(f\"Nombre d'images dans VAL_PNEUMONIA: {len(list(VAL_PNEUMONIA.glob('*.jpeg')))}\")"
   ],
   "outputs": [],
   "execution_count": null
  },
  {
   "cell_type": "markdown",
   "metadata": {},
   "source": [
    "## 1.b Réorganisation des donnnées"
   ]
  },
  {
   "cell_type": "code",
   "metadata": {},
   "source": [
    "# Création de nouveaux répertoires pour les images\n",
    "NEW_TRAIN = CWD / \"assets\"  / \"sorted_data\" / \"train\"\n",
    "NEW_TEST = CWD / \"assets\"  /  \"sorted_data\" / \"test\"\n",
    "NEW_VAL = CWD / \"assets\"  / \"sorted_data\" / \"val\"\n",
    "\n",
    "# Création des répertoires pour les catégories\n",
    "for category in [\"NORMAL\", \"BACTERIA\", \"VIRUS\"]:\n",
    "    (NEW_TRAIN / category).mkdir(parents=True, exist_ok=True)\n",
    "    (NEW_TEST / category).mkdir(parents=True, exist_ok=True)\n",
    "    (NEW_VAL / category).mkdir(parents=True, exist_ok=True)\n",
    "\n",
    "# Copie des images dans les nouveaux répertoires\n",
    "# Fonction pour déplacer les fichiers\n",
    "def move_files(src_dir, dst_dir, condition=None):\n",
    "    for file in src_dir.glob('*.jpeg'):\n",
    "        if condition:\n",
    "            if condition(file):\n",
    "                shutil.move(str(file), dst_dir)\n",
    "        else:\n",
    "            shutil.move(str(file), dst_dir)\n",
    "\n",
    "# Déplacer les images normales\n",
    "move_files(TRAIN_NORMAL, NEW_TRAIN/ \"NORMAL\")\n",
    "move_files(TEST_NORMAL, NEW_TEST / \"NORMAL\")\n",
    "move_files(VAL_NORMAL, NEW_VAL / \"NORMAL\")\n",
    "\n",
    "# Déplacer les images de pneumonie virale et bactérienne\n",
    "move_files(TRAIN_PNEUMONIA, NEW_TRAIN / \"VIRUS\", condition=lambda f: 'virus' in f.name)\n",
    "move_files(TEST_PNEUMONIA, NEW_TEST / \"VIRUS\", condition=lambda f: 'virus' in f.name)\n",
    "move_files(VAL_PNEUMONIA, NEW_VAL / \"VIRUS\", condition=lambda f: 'virus' in f.name)\n",
    "\n",
    "move_files(TRAIN_PNEUMONIA, NEW_TRAIN / \"BACTERIA\", condition=lambda f: 'bacteria' in f.name)\n",
    "move_files(TEST_PNEUMONIA, NEW_TEST / \"BACTERIA\", condition=lambda f: 'bacteria' in f.name)\n",
    "move_files(VAL_PNEUMONIA, NEW_VAL / \"BACTERIA\", condition=lambda f: 'bacteria' in f.name)\n",
    "\n",
    "# Vérifier les nouvelles distributions\n",
    "print(f\"Nombre d'images dans TRAIN_NORMAL: {len(list((NEW_TRAIN / 'NORMAL').glob('*.jpeg')))}\")\n",
    "print(f\"Nombre d'images dans TRAIN_VIRUS: {len(list((NEW_TRAIN / 'VIRUS').glob('*.jpeg')))}\")\n",
    "print(f\"Nombre d'images dans TRAIN_BACTERIA: {len(list((NEW_TRAIN / 'BACTERIA').glob('*.jpeg')))}\")\n",
    "print(f\"Nombre d'images dans TEST_NORMAL: {len(list((NEW_TEST / 'NORMAL').glob('*.jpeg')))}\")\n",
    "print(f\"Nombre d'images dans TEST_VIRUS: {len(list((NEW_TEST / 'VIRUS').glob('*.jpeg')))}\")\n",
    "print(f\"Nombre d'images dans TEST_BACTERIA: {len(list((NEW_TEST / 'BACTERIA').glob('*.jpeg')))}\")\n",
    "print(f\"Nombre d'images dans VAL_NORMAL: {len(list((NEW_VAL / 'NORMAL').glob('*.jpeg')))}\")\n",
    "print(f\"Nombre d'images dans VAL_VIRUS: {len(list((NEW_VAL / 'VIRUS').glob('*.jpeg')))}\")\n",
    "print(f\"Nombre d'images dans VAL_BACTERIA: {len(list((NEW_VAL / 'BACTERIA').glob('*.jpeg')))}\")"
   ],
   "outputs": [],
   "execution_count": null
  },
  {
   "cell_type": "markdown",
   "metadata": {},
   "source": [
    "## 1.c Rééquilibrage des données "
   ]
  },
  {
   "cell_type": "markdown",
   "metadata": {},
   "source": [
    "### Redistribution des données"
   ]
  },
  {
   "cell_type": "code",
   "metadata": {},
   "source": [
    "# Fonction pour déplacer un certain nombre de fichiers d'une source vers une destination\n",
    "def redistribute_files(src_dir, dst_dir, num_files):\n",
    "    files = list(src_dir.glob('*.jpeg'))\n",
    "    random.shuffle(files)\n",
    "    files_to_move = files[:num_files]\n",
    "    for file in files_to_move:\n",
    "        shutil.move(str(file), dst_dir)\n",
    "\n",
    "# Chemins vers les répertoires\n",
    "CWD = Path.cwd()\n",
    "NEW_TRAIN = CWD / \"assets\" / \"sorted_data\" / \"train\"\n",
    "NEW_TEST = CWD / \"assets\" / \"sorted_data\" / \"test\"\n",
    "NEW_VAL = CWD / \"assets\" / \"sorted_data\" / \"val\"\n",
    "\n",
    "# Redistribution des images pour équilibrer les ensembles de validation\n",
    "num_files_to_val = 8  # Nombre d'images à ajouter à la validation\n",
    "redistribute_files(NEW_TRAIN / 'NORMAL', NEW_VAL / 'NORMAL', num_files_to_val)\n",
    "redistribute_files(NEW_TRAIN / 'VIRUS', NEW_VAL / 'VIRUS', num_files_to_val)\n",
    "redistribute_files(NEW_TRAIN / 'BACTERIA', NEW_VAL / 'BACTERIA', num_files_to_val)\n",
    "\n",
    "# Redistribution des images pour équilibrer les ensembles de test\n",
    "num_files_to_test = 66  # Nombre d'images à ajouter au test\n",
    "redistribute_files(NEW_TRAIN / 'NORMAL', NEW_TEST / 'NORMAL', num_files_to_test)\n",
    "redistribute_files(NEW_TRAIN / 'VIRUS', NEW_TEST / 'VIRUS', num_files_to_test)\n",
    "redistribute_files(NEW_TRAIN / 'BACTERIA', NEW_TEST / 'BACTERIA', num_files_to_test)\n",
    "\n",
    "# Ajout d'images supplémentaires au jeu de validation pour VIRUS\n",
    "additional_files_to_val_virus = 8  # Nombre d'images supplémentaires pour équilibrer le jeu de validation pour VIRUS\n",
    "redistribute_files(NEW_TRAIN / 'VIRUS', NEW_VAL / 'VIRUS', additional_files_to_val_virus)"
   ],
   "outputs": [],
   "execution_count": null
  },
  {
   "cell_type": "markdown",
   "metadata": {},
   "source": [
    "### Vérification de la redistribution"
   ]
  },
  {
   "cell_type": "code",
   "metadata": {},
   "source": [
    "# Vérification des nouvelles distributions\n",
    "print(f\"Nombre d'images dans TRAIN_NORMAL: {len(list((NEW_TRAIN / 'NORMAL').glob('*.jpeg')))}\")\n",
    "print(f\"Nombre d'images dans TRAIN_VIRUS: {len(list((NEW_TRAIN / 'VIRUS').glob('*.jpeg')))}\")\n",
    "print(f\"Nombre d'images dans TRAIN_BACTERIA: {len(list((NEW_TRAIN / 'BACTERIA').glob('*.jpeg')))}\")\n",
    "print(f\"Nombre d'images dans TEST_NORMAL: {len(list((NEW_TEST / 'NORMAL').glob('*.jpeg')))}\")\n",
    "print(f\"Nombre d'images dans TEST_VIRUS: {len(list((NEW_TEST / 'VIRUS').glob('*.jpeg')))}\")\n",
    "print(f\"Nombre d'images dans TEST_BACTERIA: {len(list((NEW_TEST / 'BACTERIA').glob('*.jpeg')))}\")\n",
    "print(f\"Nombre d'images dans VAL_NORMAL: {len(list((NEW_VAL / 'NORMAL').glob('*.jpeg')))}\")\n",
    "print(f\"Nombre d'images dans VAL_VIRUS: {len(list((NEW_VAL / 'VIRUS').glob('*.jpeg')))}\")\n",
    "print(f\"Nombre d'images dans VAL_BACTERIA: {len(list((NEW_VAL / 'BACTERIA').glob('*.jpeg')))}\")"
   ],
   "outputs": [],
   "execution_count": null
  },
  {
   "cell_type": "markdown",
   "metadata": {},
   "source": [
    "### Augmentation des Données"
   ]
  },
  {
   "cell_type": "code",
   "metadata": {},
   "source": [
    "IMG_SIZE = (224, 224)\n",
    "\n",
    "# Configuration pour l'augmentation des données\n",
    "datagen = ImageDataGenerator(\n",
    "    rotation_range=15,\n",
    "    width_shift_range=0.1,\n",
    "    height_shift_range=0.1,\n",
    "    shear_range=0.1,\n",
    "    zoom_range=0.1,\n",
    "    horizontal_flip=True,\n",
    "    fill_mode='nearest')\n",
    "\n",
    "def augment_data(category_dir, augment_count, augmentations_per_image=5):\n",
    "    files = list(category_dir.glob('*.jpeg'))\n",
    "    random.shuffle(files)\n",
    "    files_to_augment = files[:augment_count]\n",
    "    for file in files_to_augment:\n",
    "        img = load_img(file, target_size=IMG_SIZE)\n",
    "        x = img_to_array(img)\n",
    "        x = np.expand_dims(x, axis=0)\n",
    "        save_prefix = 'aug_' + file.stem  # Préfixe avec le nom de fichier original\n",
    "        for i, batch in enumerate(datagen.flow(x, batch_size=1, save_to_dir=category_dir, save_prefix=save_prefix, save_format='jpeg')):\n",
    "            if i >= augmentations_per_image - 1:\n",
    "                break\n",
    "\n",
    "# Augmenter les données pour l'entraînement\n",
    "augment_data(NEW_TRAIN / 'NORMAL', 500)\n",
    "augment_data(NEW_TRAIN / 'VIRUS', 500)\n",
    "augment_data(NEW_TRAIN / 'BACTERIA', 500)\n",
    "\n",
    "# Augmenter les données pour la validation\n",
    "augment_data(NEW_VAL / 'NORMAL', 50)\n",
    "augment_data(NEW_VAL / 'VIRUS', 50)\n",
    "augment_data(NEW_VAL / 'BACTERIA', 50)"
   ],
   "outputs": [],
   "execution_count": null
  },
  {
   "cell_type": "markdown",
   "metadata": {},
   "source": [
    "### Vérification de la répartition"
   ]
  },
  {
   "cell_type": "code",
   "metadata": {},
   "source": [
    "# Vérification des nouvelles distributions après augmentation\n",
    "print(f\"Nombre d'images dans TRAIN_NORMAL: {len(list((NEW_TRAIN / 'NORMAL').glob('*.jpeg')))}\")\n",
    "print(f\"Nombre d'images dans TRAIN_VIRUS: {len(list((NEW_TRAIN / 'VIRUS').glob('*.jpeg')))}\")\n",
    "print(f\"Nombre d'images dans TRAIN_BACTERIA: {len(list((NEW_TRAIN / 'BACTERIA').glob('*.jpeg')))}\")\n",
    "print(f\"Nombre d'images dans TEST_NORMAL: {len(list((NEW_TEST / 'NORMAL').glob('*.jpeg')))}\")\n",
    "print(f\"Nombre d'images dans TEST_VIRUS: {len(list((NEW_TEST / 'VIRUS').glob('*.jpeg')))}\")\n",
    "print(f\"Nombre d'images dans TEST_BACTERIA: {len(list((NEW_TEST / 'BACTERIA').glob('*.jpeg')))}\")\n",
    "print(f\"Nombre d'images dans VAL_NORMAL: {len(list((NEW_VAL / 'NORMAL').glob('*.jpeg')))}\")\n",
    "print(f\"Nombre d'images dans VAL_VIRUS: {len(list((NEW_VAL / 'VIRUS').glob('*.jpeg')))}\")\n",
    "print(f\"Nombre d'images dans VAL_BACTERIA: {len(list((NEW_VAL / 'BACTERIA').glob('*.jpeg')))}\")"
   ],
   "outputs": [],
   "execution_count": null
  },
  {
   "cell_type": "markdown",
   "metadata": {},
   "source": [
    "## 2. Vérification du visual des images augmentées"
   ]
  },
  {
   "cell_type": "code",
   "metadata": {},
   "source": [
    "def show_augmented_images(category_dir, num_images=5):\n",
    "    files = list(category_dir.glob('*.jpeg'))\n",
    "    aug_files = [file for file in files if 'aug_' in file.stem]\n",
    "    random.shuffle(aug_files)\n",
    "    selected_files = aug_files[:num_images]\n",
    "    plt.figure(figsize=(10, 10))\n",
    "    for i, file in enumerate(selected_files):\n",
    "        img = load_img(file, target_size=IMG_SIZE)\n",
    "        ax = plt.subplot(1, num_images, i + 1)\n",
    "        plt.imshow(img)\n",
    "        plt.title(file.stem)\n",
    "        plt.axis('off')\n",
    "    plt.show()\n",
    "\n",
    "# Afficher quelques exemples d'images augmentées\n",
    "show_augmented_images(NEW_TRAIN / 'NORMAL')\n",
    "show_augmented_images(NEW_TRAIN / 'VIRUS')\n",
    "show_augmented_images(NEW_TRAIN / 'BACTERIA')"
   ],
   "outputs": [],
   "execution_count": null
  }
 ],
 "metadata": {
  "kernelspec": {
   "display_name": "Python 3 (ipykernel)",
   "language": "python",
   "name": "python3"
  },
  "language_info": {
   "codemirror_mode": {
    "name": "ipython",
    "version": 3
   },
   "file_extension": ".py",
   "mimetype": "text/x-python",
   "name": "python",
   "nbconvert_exporter": "python",
   "pygments_lexer": "ipython3",
   "version": "3.12.3"
  }
 },
 "nbformat": 4,
 "nbformat_minor": 4
}
