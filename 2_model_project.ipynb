{
 "cells": [
  {
   "cell_type": "markdown",
   "id": "f3a84cd8-c65b-4771-a7bd-72e15b232723",
   "metadata": {},
   "source": [
    "# Imports methods and classes"
   ]
  },
  {
   "cell_type": "code",
   "execution_count": null,
   "id": "5e2f4da6-928b-4ec4-8585-be57f8233acc",
   "metadata": {},
   "outputs": [],
   "source": [
    "# Import libs\n",
    "import os\n",
    "import numpy as np\n",
    "from sklearn.model_selection import StratifiedKFold, cross_val_score\n",
    "import joblib\n",
    "import json\n",
    "\n",
    "# Importing custom modules\n",
    "from src.classes.data_loader import DataLoader\n",
    "from src.classes.data_saver import DataSaver\n",
    "from src.classes.class_distribution import ClassDistribution\n",
    "from src.classes.preprocessing import Preprocessing\n",
    "from src.classes.hyperparameter_tuning import HyperparameterTuning\n",
    "from src.classes.evaluation import Evaluation\n",
    "from src.classes.random_forest_model import RandomForestModel\n",
    "from src.classes.visualize_datas import VisualizeDatas"
   ]
  },
  {
   "cell_type": "markdown",
   "id": "542c4ca5-68b1-40a0-988d-2eab2f816316",
   "metadata": {},
   "source": [
    "## Setting Up Paths and Parameters"
   ]
  },
  {
   "cell_type": "code",
   "execution_count": null,
   "id": "cf46c1c8-f4e0-44b8-8a2b-482acac70d2e",
   "metadata": {},
   "outputs": [],
   "source": [
    "# Setting up paths and parameters\n",
    "base_path = \"assets/sorted_data\"\n",
    "output_datas = \"outputs/reports\"\n",
    "output_models = \"outputs/trained_models\"\n",
    "model_path = f\"{output_models}/random_forest_model.pkl\"\n",
    "pca_path = f\"{output_models}/pca_model.pkl\"\n",
    "class_names = ['NORMAL', 'BACTERIA', 'VIRUS']\n",
    "\n",
    "# Check if paths exist and create them if not\n",
    "if not os.path.exists(output_datas):\n",
    "    os.makedirs(output_datas)\n",
    "if not os.path.exists(output_models):\n",
    "    os.makedirs(output_models)"
   ]
  },
  {
   "cell_type": "markdown",
   "id": "3255e3e6-3062-41fa-b86e-b1363467ec7d",
   "metadata": {},
   "source": [
    "## Loading Data"
   ]
  },
  {
   "cell_type": "code",
   "execution_count": null,
   "id": "ffdeb9d9-9db5-41ce-badb-bbb333f106e3",
   "metadata": {},
   "outputs": [],
   "source": [
    "# Load data\n",
    "data_loader = DataLoader(base_path)\n",
    "try:\n",
    "    test_images, test_labels = data_loader.load_test_images()\n",
    "    train_images, train_labels = data_loader.load_train_images()\n",
    "    val_images, val_labels = data_loader.load_val_images()\n",
    "except Exception as e:\n",
    "    print(f\"Error loading images: {e}\")\n",
    "run_number = len([name for name in os.listdir(output_datas) if os.path.isdir(os.path.join(output_datas, name))]) + 1\n",
    "run_folder = os.path.join(output_datas, f\"run_{run_number}\")\n",
    "os.makedirs(run_folder, exist_ok=True)"
   ]
  },
  {
   "cell_type": "markdown",
   "id": "1fd6bbc0-d6fe-4769-8d80-02f48049eb1c",
   "metadata": {},
   "source": [
    "## Checking Class Distribution"
   ]
  },
  {
   "cell_type": "code",
   "execution_count": null,
   "id": "a1e8afce-b975-4d54-9b7f-bd21ed6ad0e1",
   "metadata": {},
   "outputs": [],
   "source": [
    "# Check class distribution\n",
    "try:\n",
    "    ClassDistribution.detailed_class_distribution(train_labels, \"Training\", run_number)\n",
    "    ClassDistribution.detailed_class_distribution(val_labels, \"Validation\", run_number)\n",
    "    ClassDistribution.detailed_class_distribution(test_labels, \"Test\", run_number)\n",
    "    unique_classes = np.unique(train_labels)\n",
    "    if len(unique_classes) < len(class_names):\n",
    "        print(\"Training set does not contain all classes. Consider augmenting the dataset.\")\n",
    "    else:\n",
    "        print(\"All classes are present in the data set.\")\n",
    "except Exception as e:\n",
    "    print(f\"Error: {e}\")"
   ]
  },
  {
   "cell_type": "markdown",
   "id": "4b2d2cec-dd18-4a7a-8473-8b3490559a8c",
   "metadata": {},
   "source": [
    "## Preprocessing Data"
   ]
  },
  {
   "cell_type": "code",
   "execution_count": null,
   "id": "113d4223-4ffd-424b-bfc1-d8162d8e354c",
   "metadata": {},
   "outputs": [],
   "source": [
    "# Preprocess data\n",
    "preprocessing = Preprocessing()\n",
    "try:\n",
    "    train_features, train_labels = preprocessing.preprocess_data(train_images, train_labels, fit=True, balance_method='smote')\n",
    "    val_features, val_labels = preprocessing.preprocess_data(val_images, val_labels, fit=False)\n",
    "    test_features, test_labels = preprocessing.preprocess_data(test_images, test_labels, fit=False)\n",
    "except Exception as e:\n",
    "    print(f\"Error: {e}\")\n",
    "# Convert labels to single dimension\n",
    "try:\n",
    "    if train_labels.ndim > 1:\n",
    "        train_labels_single = np.argmax(train_labels, axis=1)\n",
    "    else:\n",
    "        train_labels_single = train_labels\n",
    "\n",
    "    if val_labels.ndim > 1:\n",
    "        val_labels_single = np.argmax(val_labels, axis=1)\n",
    "    else:\n",
    "        val_labels_single = val_labels\n",
    "\n",
    "    if test_labels.ndim > 1:\n",
    "        test_labels_single = np.argmax(test_labels, axis=1)\n",
    "    else:\n",
    "        test_labels_single = test_labels\n",
    "except Exception as e:\n",
    "    print(\"Error during preprocessing\")"
   ]
  },
  {
   "cell_type": "markdown",
   "id": "23b6a635-11b4-40a8-885e-af020347aca8",
   "metadata": {},
   "source": [
    "## Hyperparameter Tuning"
   ]
  },
  {
   "cell_type": "code",
   "execution_count": null,
   "id": "96e51b65-5bd0-42c9-a55b-a5fb94d6313d",
   "metadata": {},
   "outputs": [],
   "source": [
    "# Perform hyperparameter tuning\n",
    "skf = StratifiedKFold(n_splits=10)\n",
    "\n",
    "# Define parameter distribution\n",
    "param_dist = {\n",
    "    'n_estimators': [100, 200, 300, 400, 500],\n",
    "    'max_features': ['sqrt', 'log2', None],\n",
    "    'max_depth': [10, 15, 20, 25, 32, None],\n",
    "    'min_samples_split': [50, 100, 150],\n",
    "    'min_samples_leaf': [20, 30, 50],\n",
    "    'bootstrap': [True],\n",
    "    'max_samples': [0.8, 0.9, 1.0],\n",
    "    'criterion': ['gini', 'entropy']\n",
    "}\n",
    "\n",
    "best_params = None\n",
    "best_score = None\n",
    "#scoring = \"roc_auc\"\n",
    "scoring = \"accuracy\"\n",
    "#scoring = \"f1\"\n",
    "# Hyperparameter Tuning or Loading Model\n",
    "if os.path.exists(model_path) and os.path.exists(pca_path):\n",
    "    rf_model = RandomForestModel()  # Use your class\n",
    "    rf_model.load(model_path)  # Load the model using the class method\n",
    "    preprocessing.pca = joblib.load(pca_path)\n",
    "    print(\"Loaded existing model and PCA.\")\n",
    "else:\n",
    "    best_params, best_score = HyperparameterTuning().randomized_search_hyperparameters(train_features, train_labels_single, cv=skf, param_dist=param_dist, scoring=scoring)\n",
    "\n",
    "    rf_model = RandomForestModel(\n",
    "        n_estimators=best_params['n_estimators'],\n",
    "        max_features=best_params['max_features'],\n",
    "        max_depth=best_params['max_depth'],\n",
    "        min_samples_split=best_params['min_samples_split'],\n",
    "        min_samples_leaf=best_params['min_samples_leaf'],\n",
    "        random_state=42,\n",
    "    )\n",
    "    rf_model.fit(train_features, train_labels_single)\n",
    "\n",
    "    rf_model.save(model_path)\n",
    "    joblib.dump(preprocessing.pca, pca_path)\n",
    "    print(\"Trained and saved new model and PCA.\")"
   ]
  },
  {
   "cell_type": "markdown",
   "id": "3b585158-fb21-469b-94ee-9e1c5ba67f4e",
   "metadata": {},
   "source": [
    "## Evaluating Model"
   ]
  },
  {
   "cell_type": "code",
   "execution_count": null,
   "id": "a00583d8-d752-4458-a582-a7d1b52a48c3",
   "metadata": {},
   "outputs": [],
   "source": [
    "data_saver = DataSaver()\n",
    "\n",
    "if scoring == \"roc_auc\":\n",
    "    # Compute ROC AUC for cross validation\n",
    "    val_roc_auc_cv = cross_val_score(rf_model.model, val_features, val_labels_single, cv=skf, scoring='roc_auc_ovr').mean()\n",
    "\n",
    "    # Evaluate ROC AUC\n",
    "    val_roc_auc = Evaluation.evaluate_model(rf_model, val_features, val_labels_single, \"Validation\", run_folder, class_names)\n",
    "    test_roc_auc = Evaluation.evaluate_model(rf_model, test_features, test_labels_single, \"Test\", run_folder, class_names)\n",
    "    train_roc_auc = Evaluation.evaluate_model(rf_model, train_features, train_labels_single, \"Training\", run_folder, class_names)\n",
    "    # Save results\n",
    "    data_saver.save_results({\n",
    "        'train_roc_auc': train_roc_auc,\n",
    "        'val_roc_auc_cv': val_roc_auc_cv,\n",
    "        'val_roc_auc': val_roc_auc,\n",
    "        'test_roc_auc': test_roc_auc,\n",
    "    })\n",
    "else:\n",
    "    # Compute ACCURACY for cross validation\n",
    "    val_accuracy_cv = cross_val_score(rf_model.model, val_features, val_labels_single, cv=skf, scoring='accuracy').mean()\n",
    "\n",
    "    # Evaluate Accuracy\n",
    "    val_accuracy = Evaluation.evaluate_model(rf_model, val_features, val_labels_single, \"Validation\", run_folder, class_names, metric='accuracy')\n",
    "    test_accuracy = Evaluation.evaluate_model(rf_model, test_features, test_labels_single, \"Test\", run_folder, class_names, metric='accuracy')\n",
    "    train_accuracy = Evaluation.evaluate_model(rf_model, train_features, train_labels_single, \"Training\", run_folder, class_names, metric='accuracy')\n",
    "    # Save results\n",
    "    data_saver.save_results({\n",
    "        'val_accuracy_cv': val_accuracy_cv,\n",
    "        'train_accuracy': train_accuracy,\n",
    "        'val_accuracy': val_accuracy,\n",
    "        'test_accuracy': test_accuracy\n",
    "    })"
   ]
  },
  {
   "cell_type": "markdown",
   "id": "5400b085-f9f1-48d9-94c7-77cfe3376012",
   "metadata": {},
   "source": [
    "## Saving Technical Details"
   ]
  },
  {
   "cell_type": "code",
   "execution_count": null,
   "id": "239a2638-9c3f-4cc6-a239-df6c7e1ce29e",
   "metadata": {},
   "outputs": [],
   "source": [
    "if scoring == \"roc_auc\":\n",
    "    technical_details = {\n",
    "    'best_hyperparameters': best_params if best_params else \"Loaded model, no hyperparameter tuning performed\",\n",
    "    'auc_cross_validation_scores': val_roc_auc_cv,\n",
    "    'test_scores': test_roc_auc,\n",
    "    'validation_scores': val_roc_auc,}\n",
    "    with open(f\"{run_folder}/technical_details.json\", 'w') as f:\n",
    "        json.dump(technical_details, f, indent=4)\n",
    "\n",
    "\n",
    "else: \n",
    "    technical_details = {\n",
    "    'best_hyperparameters': best_params if best_params else \"Loaded model, no hyperparameter tuning performed\",\n",
    "    'test_accuracy': test_accuracy,\n",
    "    'val_accuracy': val_accuracy,\n",
    "    'accuracy_cross_validation_scores': val_accuracy_cv,}\n",
    "    with open(f\"{run_folder}/technical_details.json\", 'w') as f:\n",
    "        json.dump(technical_details, f, indent=4)\n",
    "\n",
    "# Update reports.json\n",
    "reports_path = os.path.join(output_datas, \"reports.json\")\n",
    "if os.path.exists(reports_path):\n",
    "    with open(reports_path, 'r') as f:\n",
    "        reports = json.load(f)\n",
    "else:\n",
    "    reports = {}\n",
    "\n",
    "if scoring == \"roc_auc\":\n",
    "    reports[f\"run_{run_number}\"] = {\n",
    "        'train_roc_auc': train_roc_auc,\n",
    "        'val_roc_auc': val_roc_auc,\n",
    "        'test_roc_auc': test_roc_auc,\n",
    "    }\n",
    "else:\n",
    "    reports[f\"run_{run_number}\"] = {\n",
    "        'train_accuracy': train_accuracy,\n",
    "        'val_accuracy': val_accuracy,\n",
    "        'test_accuracy': test_accuracy\n",
    "    }\n",
    "    \n",
    "with open(reports_path, 'w') as f:\n",
    "    json.dump(reports, f, indent=4)"
   ]
  },
  {
   "cell_type": "markdown",
   "id": "bcb1bf13-2a20-4804-81aa-f5da5b33ed3f",
   "metadata": {},
   "source": [
    "## Visualizing Results"
   ]
  },
  {
   "cell_type": "code",
   "execution_count": null,
   "id": "67d47606-9b04-4247-8ac4-180111d5c31e",
   "metadata": {},
   "outputs": [],
   "source": [
    "VisualizeDatas.display_images(run_folder,scoring)\n",
    "VisualizeDatas.display_json_report(run_folder)"
   ]
  },
  {
   "cell_type": "markdown",
   "id": "10cbe1fe-6169-472d-a654-9ac99b99b640",
   "metadata": {},
   "source": [
    "## End of Notebook"
   ]
  }
 ],
 "metadata": {
  "kernelspec": {
   "display_name": "Python 3 (ipykernel)",
   "language": "python",
   "name": "python3"
  },
  "language_info": {
   "codemirror_mode": {
    "name": "ipython",
    "version": 3
   },
   "file_extension": ".py",
   "mimetype": "text/x-python",
   "name": "python",
   "nbconvert_exporter": "python",
   "pygments_lexer": "ipython3",
   "version": "3.12.3"
  }
 },
 "nbformat": 4,
 "nbformat_minor": 5
}
